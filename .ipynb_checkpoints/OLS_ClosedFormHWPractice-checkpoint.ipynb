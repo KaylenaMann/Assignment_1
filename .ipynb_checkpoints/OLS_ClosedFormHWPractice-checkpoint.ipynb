{
 "cells": [
  {
   "cell_type": "markdown",
   "id": "47f51ccf",
   "metadata": {},
   "source": [
    "<div style=\"text-align: right\">ADEC7430 Lecture 2</div>\n",
    "<div style=\"text-align: right\">Prof. Stefano Parravano, 09/02/20225</div>\n",
    "\n",
    "## OLS Example Problem\n",
    "\n",
    "Given the data: $(x_i,y_i)$: (2,1),(5,2),(7,3),(8,3).\n",
    "\n",
    "Find a linear model of the form:\n",
    "\n",
    "$$ y = \\beta_0 + \\beta_1 x $$\n",
    "\n",
    "that fits the data provided. Use OLS.\n",
    "\n",
    "Step 1: Create the design matrix\n",
    "\n",
    "$$ X = \\begin{bmatrix} 1 & 2 \\\\ 1 & 5 \\\\ 1 & 7 \\\\ 1 & 8 \\end{bmatrix}$$\n",
    "\n",
    "Step 2: take note of the observation vector and the parameter vector.\n",
    "\n",
    "parameter vector:\n",
    "$$\\vec{\\beta} = \\begin{bmatrix} \\ \\beta_0 \\\\ \\beta_1 \\end{bmatrix} $$\n",
    "\n",
    "observation vector:\n",
    "$$\\vec{y} = \\begin{bmatrix} \\ 1 \\\\ 2 \\\\ 3 \\\\ 3 \\end{bmatrix} $$\n",
    "\n",
    "Step 3: Express the problem in the language of matrix alegebra:\n",
    "\n",
    "$$ X\\vec{\\beta} = \\vec{y} $$\n",
    "\n",
    "Step 4: Use normal equations to solve for $\\hat{\\beta}$\n",
    "\n",
    "$$ X^TX\\hat{\\beta} = X^T\\vec{y} $$\n",
    "\n",
    "$$\\implies$$\n",
    "\n",
    "$$ \\hat{\\beta} = (X^TX)^{-1} X^T\\vec{y} $$\n",
    "\n",
    "Step 5: Use python to perform the computation. This is what you will have to figure out :). PLease use the sympy package to perform operations between matrices and vectors.\n",
    "\n",
    "Step 6: Report your result.\n",
    "\n",
    "$$ \\hat{\\beta} = \\begin{bmatrix} \\ \\frac{2}{7} \\\\ \\frac{5}{14} \\end{bmatrix} $$\n",
    "\n",
    "$$ \\therefore y = \\frac{2}{7} + \\frac{5}{14} x $$"
   ]
  },
  {
   "cell_type": "code",
   "execution_count": 26,
   "id": "2575b447-4c8e-44a9-bc4b-cf768528cb70",
   "metadata": {},
   "outputs": [
    {
     "name": "stdout",
     "output_type": "stream",
     "text": [
      "Matrix([[2/7], [5/14]])\n"
     ]
    }
   ],
   "source": [
    "from sympy import Matrix\n",
    "\n",
    "X = Matrix([[1, 2], [1, 5], [1, 7], [1, 8]])\n",
    "\n",
    "y = Matrix([1, 2, 3, 3])\n",
    "\n",
    "B = ((X.T*X).inv())*(X.T)*y\n",
    "\n",
    "print(B)"
   ]
  },
  {
   "cell_type": "code",
   "execution_count": null,
   "id": "04248a70-415e-43c5-954d-575efcb0ef67",
   "metadata": {},
   "outputs": [],
   "source": [
    "from sympy import *\n",
    "import matplotlib.pyplot as plt\n",
    "import numpy as np"
   ]
  },
  {
   "cell_type": "code",
   "execution_count": null,
   "id": "55a2a1af-f462-4be8-85ce-af622c544442",
   "metadata": {},
   "outputs": [],
   "source": []
  },
  {
   "cell_type": "markdown",
   "id": "98bf3018",
   "metadata": {},
   "source": [
    "## Assignment:\n",
    "\n",
    "Given the data provided below: x_feature et y_feature please fit a function of the form: $$ f(x) = ax^2 + bx + c $$  \n",
    "where:  \n",
    "$$ (a,b,c) \\in \\mathbf{R}$$  \n",
    "and of course let's not forget:  \n",
    "$$ a \\neq 0 $$  \n",
    "\n",
    "Use OLS and do not use a package to estimate the unknown parameters $\\hat\\beta$ (a,b,c).\n",
    "\n",
    "You must follow the step by step outlined in the example problem above.\n",
    "\n",
    "In addition, you are required to:\n",
    " + compute the residual vector: $\\epsilon = \\vec{y} - X \\hat{\\beta}$\n",
    " + compute the norm of the residual vector (what does this represent)? Provide a description in plain english.\n",
    " + plot your data and the best fit line you estimated.\n",
    " + Compute the RMSE and compare it against the RMSE reported in the OLS_gradientDescent notebook (model was fit on the same data using Gradient Descent as opposed to the closed form solution). Are the estimates different? Comment on this.\n",
    " \n",
    "\n",
    "You may notice that in te OLS_gradientDescent notebook the features are normalized before the training process.\n",
    "\n",
    "Please perform the model fitting (training) using non-normalized features first and then repeat the entire process using normalized features. Take note of the differences and provide meaningful commentary.\n",
    "\n",
    "NOTE: I provide the function to normalize a feature vector.\n",
    "\n",
    "As a Final Step: Use R or any software/language of your choosing to perform OLS regression on the sample dataset provided. Do you get the same resutls?"
   ]
  },
  {
   "cell_type": "markdown",
   "id": "9bada2f1",
   "metadata": {},
   "source": [
    "## Solution"
   ]
  },
  {
   "cell_type": "code",
   "execution_count": 55,
   "id": "1aff9932",
   "metadata": {},
   "outputs": [],
   "source": [
    "from sympy import *\n",
    "import matplotlib.pyplot as plt\n",
    "import numpy as np"
   ]
  },
  {
   "cell_type": "code",
   "execution_count": 59,
   "id": "25177ffe",
   "metadata": {},
   "outputs": [],
   "source": [
    "y = Matrix([[7.3],[15.1],[17.2],[61.9],[12.3],[8],[11.6],[22.5],[6],[16.6],[32.2]])\n",
    "x_feature = np.asarray([35.7,55.9,58.2,81.9,56.3,48.9,33.9,21.8,48.4,60.4,68.4])\n",
    "y_feature = np.asarray([y[x] for x in range(y.shape[0])])"
   ]
  },
  {
   "cell_type": "code",
   "execution_count": 95,
   "id": "cccdd837-e4f5-4d43-b7ec-924f6e940e3e",
   "metadata": {},
   "outputs": [
    {
     "name": "stdout",
     "output_type": "stream",
     "text": [
      "Matrix([[72.7400574684368], [-3.08939325442395], [0.0361959753727331]])\n"
     ]
    }
   ],
   "source": [
    "X = Matrix([[1, xi, xi**2] for xi in x_feature])\n",
    "B = ((X.T*X).inv())*(X.T)*y\n",
    "print(B)"
   ]
  },
  {
   "cell_type": "code",
   "execution_count": 64,
   "id": "87c3ea3f-0d23-4b47-ade1-dba5ad06ab05",
   "metadata": {},
   "outputs": [
    {
     "data": {
      "text/latex": [
       "$\\displaystyle \\left[\\begin{matrix}-1.28012693829632\\\\1.95147964939195\\\\1.65817431750066\\\\-0.607236301013593\\\\-1.23723842356672\\\\-0.220905598138685\\\\1.99359699843657\\\\-0.0930598581323068\\\\-2.00466802346719\\\\-1.58941441702016\\\\1.42939859430724\\end{matrix}\\right]$"
      ],
      "text/plain": [
       "Matrix([\n",
       "[  -1.28012693829632],\n",
       "[   1.95147964939195],\n",
       "[   1.65817431750066],\n",
       "[ -0.607236301013593],\n",
       "[  -1.23723842356672],\n",
       "[ -0.220905598138685],\n",
       "[   1.99359699843657],\n",
       "[-0.0930598581323068],\n",
       "[  -2.00466802346719],\n",
       "[  -1.58941441702016],\n",
       "[   1.42939859430724]])"
      ]
     },
     "execution_count": 64,
     "metadata": {},
     "output_type": "execute_result"
    }
   ],
   "source": [
    "error = y - X*B\n",
    "error"
   ]
  },
  {
   "cell_type": "code",
   "execution_count": 75,
   "id": "c3d1566f-343c-44b3-8c08-c18ebc17ddf5",
   "metadata": {},
   "outputs": [
    {
     "data": {
      "text/latex": [
       "$\\displaystyle \\left[\\begin{matrix}22.716035536791\\end{matrix}\\right]^{\\frac{1}{2}}$"
      ],
      "text/plain": [
       "Matrix([[22.716035536791]])**(1/2)"
      ]
     },
     "execution_count": 75,
     "metadata": {},
     "output_type": "execute_result"
    }
   ],
   "source": [
    "from sympy import sqrt\n",
    "NormError1 = error.T*error\n",
    "NormError2m = sqrt(NormError1)\n",
    "NormError2m\n",
    "#Does this represent the MSE? The mean square error, or the error in the model?"
   ]
  },
  {
   "cell_type": "code",
   "execution_count": 136,
   "id": "84afa508-6693-43ca-8f83-b25beb556172",
   "metadata": {},
   "outputs": [],
   "source": [
    "b0 = float(B[0])  \n",
    "b1 = float(B[1]) \n",
    "b2 = float(B[2])  \n"
   ]
  },
  {
   "cell_type": "code",
   "execution_count": 131,
   "id": "241dfb0e-b519-4618-9bbb-11a329c397fe",
   "metadata": {},
   "outputs": [
    {
     "data": {
      "image/png": "[encoded data removed]",
      "text/plain": [
       "<Figure size 640x480 with 1 Axes>"
      ]
     },
     "metadata": {},
     "output_type": "display_data"
    }
   ],
   "source": [
    "import matplotlib.pyplot as plt\n",
    "\n",
    "X_smooth = np.linspace(x_feature.min(), x_feature.max(), 11)\n",
    "y_smooth = b0 + b1 * X_smooth + b2 * X_smooth**2\n",
    "\n",
    "plt.scatter(x_feature, y_feature, c=\"blue\", label=\"Data\")\n",
    "# Plot the fitted quadratic curve\n",
    "plt.plot(X_smooth, y_smooth, c=\"red\", label=\"Fitted curve\")\n",
    "plt.xlabel(\"X-axis\")\n",
    "plt.ylabel(\"Y-axis\")\n",
    "plt.legend()\n",
    "plt.show()"
   ]
  },
  {
   "cell_type": "code",
   "execution_count": 138,
   "id": "7f3d9501-dec9-414f-b505-3701c485d6cd",
   "metadata": {},
   "outputs": [
    {
     "name": "stdout",
     "output_type": "stream",
     "text": [
      "1.437043541340439\n"
     ]
    }
   ],
   "source": [
    "\n",
    "y_pred = b0 + b1 * x_feature + b2 * x_feature**2\n",
    "# Calculate the mean squared error (MSE) by taking the mean of the squared differences\n",
    "meanSquaredError = ((y_pred - y_feature) ** 2).mean()\n",
    "rmse = np.sqrt(float(meanSquaredError))\n",
    "print(rmse)"
   ]
  },
  {
   "cell_type": "code",
   "execution_count": 146,
   "id": "3dc89f86",
   "metadata": {},
   "outputs": [],
   "source": [
    "## NOW NORMALIZED\n",
    "def normalize_tensor_0_1(tensor):\n",
    "    min_ten=min(tensor)\n",
    "    max_ten=max(tensor)\n",
    "    norm_ten=(tensor - min_ten)/(max_ten-min_ten)\n",
    "    return(norm_ten)\n",
    "\n",
    "x_norm = normalize_tensor_0_1(x_feature)\n",
    "y_norm = normalize_tensor_0_1(y_feature)"
   ]
  },
  {
   "cell_type": "code",
   "execution_count": 151,
   "id": "dfecb67f-62e5-4866-84ff-947740719f98",
   "metadata": {},
   "outputs": [
    {
     "name": "stdout",
     "output_type": "stream",
     "text": [
      "Matrix([[0.296834702292165], [-1.62479514424297], [2.33882334536786]])\n"
     ]
    }
   ],
   "source": [
    "y = Matrix(y_norm.reshape(-1, 1)) \n",
    "X = Matrix([[1, xi, xi**2] for xi in x_norm])\n",
    "B = ((X.T*X).inv())*(X.T)*y\n",
    "print(B)"
   ]
  },
  {
   "cell_type": "code",
   "execution_count": 152,
   "id": "98d23cea-f436-4c59-b9d5-1078c049bc84",
   "metadata": {},
   "outputs": [
    {
     "data": {
      "text/latex": [
       "$\\displaystyle \\left[\\begin{matrix}-0.0229003030106701\\\\0.034910190507902\\\\0.0296632257155718\\\\-0.01086290341705\\\\-0.0221330666112159\\\\-0.00395179960892596\\\\0.0356636314568241\\\\-0.00166475595942822\\\\-0.0358616819940514\\\\-0.0284331738286284\\\\0.0255706367496822\\end{matrix}\\right]$"
      ],
      "text/plain": [
       "Matrix([\n",
       "[ -0.0229003030106701],\n",
       "[   0.034910190507902],\n",
       "[  0.0296632257155718],\n",
       "[   -0.01086290341705],\n",
       "[ -0.0221330666112159],\n",
       "[-0.00395179960892596],\n",
       "[  0.0356636314568241],\n",
       "[-0.00166475595942822],\n",
       "[ -0.0358616819940514],\n",
       "[ -0.0284331738286284],\n",
       "[  0.0255706367496822]])"
      ]
     },
     "execution_count": 152,
     "metadata": {},
     "output_type": "execute_result"
    }
   ],
   "source": [
    "error = y - X*B\n",
    "error"
   ]
  },
  {
   "cell_type": "code",
   "execution_count": 153,
   "id": "a43c614f-e1e8-4a4c-b706-76cdbace0928",
   "metadata": {},
   "outputs": [
    {
     "data": {
      "text/latex": [
       "$\\displaystyle \\left[\\begin{matrix}0.00726957336183355\\end{matrix}\\right]^{\\frac{1}{2}}$"
      ],
      "text/plain": [
       "Matrix([[0.00726957336183355]])**(1/2)"
      ]
     },
     "execution_count": 153,
     "metadata": {},
     "output_type": "execute_result"
    }
   ],
   "source": [
    "from sympy import sqrt\n",
    "NormError1 = error.T*error\n",
    "NormError2m = sqrt(NormError1)\n",
    "NormError2m\n",
    "#Does this represent the MSE? The mean square error, or the error in the model?"
   ]
  },
  {
   "cell_type": "code",
   "execution_count": 158,
   "id": "8af3ac09-91bc-405c-9775-345980aeb6c4",
   "metadata": {},
   "outputs": [
    {
     "data": {
      "text/plain": [
       "2.3388233453678584"
      ]
     },
     "execution_count": 158,
     "metadata": {},
     "output_type": "execute_result"
    }
   ],
   "source": [
    "b0 = float(B[0])  \n",
    "b1 = float(B[1]) \n",
    "b2 = float(B[2])"
   ]
  },
  {
   "cell_type": "code",
   "execution_count": 160,
   "id": "a22374d0-4d6f-4546-a796-702aaa9bf692",
   "metadata": {},
   "outputs": [
    {
     "data": {
      "image/png": "[encoded data removed]",
      "text/plain": [
       "<Figure size 640x480 with 1 Axes>"
      ]
     },
     "metadata": {},
     "output_type": "display_data"
    }
   ],
   "source": [
    "import matplotlib.pyplot as plt\n",
    "\n",
    "X_smooth = np.linspace(x_norm.min(), x_norm.max(), 11)\n",
    "y_smooth = b0 + b1 * X_smooth + b2 * X_smooth**2\n",
    "\n",
    "plt.scatter(x_norm, y_norm, c=\"blue\", label=\"Data\")\n",
    "# Plot the fitted quadratic curve\n",
    "plt.plot(X_smooth, y_smooth, c=\"red\", label=\"Fitted curve\")\n",
    "plt.xlabel(\"X-axis\")\n",
    "plt.ylabel(\"Y-axis\")\n",
    "plt.legend()\n",
    "plt.show()"
   ]
  },
  {
   "cell_type": "code",
   "execution_count": 168,
   "id": "7d93d7ac-e375-46b0-a5dc-303611acad10",
   "metadata": {},
   "outputs": [
    {
     "name": "stdout",
     "output_type": "stream",
     "text": [
      "0.02570739787728878\n"
     ]
    }
   ],
   "source": [
    "y_actual = np.array(y_norm, dtype=float).ravel()  \n",
    "y_pred = b0 + b1 * x_norm + b2 * x_norm**2\n",
    "# Calculate the mean squared error (MSE) by taking the mean of the squared differences\n",
    "meanSquaredError = ((y_pred - y_actual) ** 2).mean()\n",
    "rmse = np.sqrt(meanSquaredError)\n",
    "print(rmse)"
   ]
  }
 ],
 "metadata": {
  "kernelspec": {
   "display_name": "Python 3 (ipykernel)",
   "language": "python",
   "name": "python3"
  },
  "language_info": {
   "codemirror_mode": {
    "name": "ipython",
    "version": 3
   },
   "file_extension": ".py",
   "mimetype": "text/x-python",
   "name": "python",
   "nbconvert_exporter": "python",
   "pygments_lexer": "ipython3",
   "version": "3.13.5"
  }
 },
 "nbformat": 4,
 "nbformat_minor": 5
}
