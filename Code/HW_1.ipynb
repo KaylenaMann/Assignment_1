{
 "cells": [
  {
   "cell_type": "markdown",
   "id": "8c4c4e22-e85a-4256-aa83-2ec1cfb77707",
   "metadata": {
    "jp-MarkdownHeadingCollapsed": true
   },
   "source": [
    "# Importing Libraries"
   ]
  },
  {
   "cell_type": "code",
   "execution_count": 2,
   "id": "38dc5873-33b2-45a4-b086-0a3b6fc47c3c",
   "metadata": {},
   "outputs": [],
   "source": [
    "#importing libraries\n",
    "import random\n",
    "import numpy as np\n",
    "import pandas as pd\n",
    "import statsmodels.api as sm\n",
    "import statsmodels.formula.api as smf\n",
    "import sklearn\n",
    "from sklearn.model_selection import train_test_split\n",
    "from sklearn.linear_model import LinearRegression\n",
    "from sklearn.metrics import mean_squared_error"
   ]
  },
  {
   "cell_type": "markdown",
   "id": "a989d3b5-339a-4f91-bb58-41b18ac00ae8",
   "metadata": {
    "jp-MarkdownHeadingCollapsed": true
   },
   "source": [
    "# Simulating Data"
   ]
  },
  {
   "cell_type": "markdown",
   "id": "89489027-690e-46ce-b55a-03387928a214",
   "metadata": {
    "jp-MarkdownHeadingCollapsed": true
   },
   "source": [
    "## Creating distributions"
   ]
  },
  {
   "cell_type": "code",
   "execution_count": 50,
   "id": "84add4d6-34bb-488c-ba90-9f365585a684",
   "metadata": {},
   "outputs": [],
   "source": [
    "\n",
    "# creating the sample size\n",
    "n = 10000\n",
    "np.random.seed(33) \n",
    "#random normal variables with mean of 0 and SD of 1 (default)\n",
    "x1 = np.random.normal(0, 1, n)\n",
    "x2 = np.random.normal(0, 1, n)\n",
    "#random uniform variables with min of 0 and max of 1 (default)\n",
    "x3 = np.random.uniform(0, 1, n)\n",
    "x4 = np.random.uniform(0, 1, n)"
   ]
  },
  {
   "attachments": {},
   "cell_type": "markdown",
   "id": "473610c4-3295-4c27-9310-504e9eb3ec47",
   "metadata": {},
   "source": [
    "## Adding Coefficients\n",
    "The coefficients were based on this study: https://digitalcommons.coastal.edu/cgi/viewcontent.cgi?article=1220&context=etd!"
   ]
  },
  {
   "cell_type": "code",
   "execution_count": 51,
   "id": "0c448c39-e64b-44fe-86f5-c780c2bcf983",
   "metadata": {},
   "outputs": [
    {
     "name": "stdout",
     "output_type": "stream",
     "text": [
      "         x1        x2        x3        x4     x2_sq         y\n",
      "0 -0.318854 -1.097509  0.441344  0.615104  1.204527  3.175933\n",
      "1 -1.602981  0.704783  0.162942  0.566509  0.496719  2.547988\n",
      "2 -1.535218 -0.591034  0.864158  0.650995  0.349322  5.725682\n",
      "3 -0.570401  0.500857  0.806055  0.364113  0.250857  5.365241\n",
      "4 -0.216728  1.280189  0.063567  0.223869  1.638883  4.450283\n"
     ]
    }
   ],
   "source": [
    "# based on this study: \n",
    "b0 = 3.87\n",
    "b1 = 0.81\n",
    "b2 = -0.02\n",
    "b3 = 1.06\n",
    "b4 = 1.65\n",
    "\n",
    "#adding error\n",
    "error = np.random.normal(0, 1, n)   \n",
    "\n",
    "#generating the equation for y\n",
    "y = (b0 + b1*x1 + b2*x2 + b3*x3 + b4*x4 + b2*(x2**2) +\n",
    "     error)\n",
    "#creating the data_frame\n",
    "data = pd.DataFrame({'x1': x1,'x2': x2,'x3': x3,'x4': x4, 'x2_sq': x2**2, 'y': y})\n",
    "print(data.head())"
   ]
  },
  {
   "cell_type": "markdown",
   "id": "aeebbd87-aa34-4751-83f4-04fd38d87284",
   "metadata": {
    "jp-MarkdownHeadingCollapsed": true
   },
   "source": [
    "# Validation with 30% test and 70% training"
   ]
  },
  {
   "cell_type": "code",
   "execution_count": 69,
   "id": "9e67b5ae-b9fd-4b36-b593-350f02957514",
   "metadata": {},
   "outputs": [],
   "source": [
    "#creating the training/test data \n",
    "train, test = train_test_split(data, \n",
    "                                test_size = .30,\n",
    "                                random_state = 33)"
   ]
  },
  {
   "cell_type": "code",
   "execution_count": 70,
   "id": "904024df-1e7d-45af-8c25-6d2405ba83cc",
   "metadata": {},
   "outputs": [],
   "source": [
    "X_train = train[['x1','x2','x3','x4','x2_sq']]\n",
    "y_train = train['y']\n",
    "X_test = test[['x1','x2','x3','x4','x2_sq']]\n",
    "y_test = test['y']\n",
    "\n",
    "X_train_sm = sm.add_constant(X_train)\n",
    "X_test_sm = sm.add_constant(X_test)"
   ]
  },
  {
   "cell_type": "code",
   "execution_count": 71,
   "id": "c2374563-9b8f-44fa-87da-391b468fa3fd",
   "metadata": {},
   "outputs": [],
   "source": [
    "model = sm.OLS(y_train, X_train_sm)\n",
    "results = model.fit()"
   ]
  },
  {
   "cell_type": "code",
   "execution_count": 72,
   "id": "9b042526-da81-4cb2-8643-1400ec57cc8a",
   "metadata": {},
   "outputs": [],
   "source": [
    "yhat_test = results.predict(X_test_sm)\n",
    "yhat_train = results.predict(X_train_sm)\n",
    "MSE_test = np.mean((y_test - yhat_test)**2)\n",
    "MSE_train = np.mean((y_train - yhat_train)**2)"
   ]
  },
  {
   "cell_type": "code",
   "execution_count": 77,
   "id": "7110ae0c-58ca-4c46-bf97-95e7f19ca0b7",
   "metadata": {},
   "outputs": [
    {
     "name": "stdout",
     "output_type": "stream",
     "text": [
      "                            OLS Regression Results                            \n",
      "==============================================================================\n",
      "Dep. Variable:                      y   R-squared:                       0.501\n",
      "Model:                            OLS   Adj. R-squared:                  0.501\n",
      "Method:                 Least Squares   F-statistic:                     1405.\n",
      "Date:                Mon, 15 Sep 2025   Prob (F-statistic):               0.00\n",
      "Time:                        20:08:44   Log-Likelihood:                -9929.5\n",
      "No. Observations:                7000   AIC:                         1.987e+04\n",
      "Df Residuals:                    6994   BIC:                         1.991e+04\n",
      "Df Model:                           5                                         \n",
      "Covariance Type:            nonrobust                                         \n",
      "==============================================================================\n",
      "                 coef    std err          t      P>|t|      [0.025      0.975]\n",
      "------------------------------------------------------------------------------\n",
      "const          3.8825      0.033    118.335      0.000       3.818       3.947\n",
      "x1             0.8240      0.012     69.219      0.000       0.801       0.847\n",
      "x2            -0.0109      0.012     -0.911      0.362      -0.034       0.013\n",
      "x3             1.0933      0.042     26.224      0.000       1.012       1.175\n",
      "x4             1.6292      0.042     39.217      0.000       1.548       1.711\n",
      "x2_sq         -0.0212      0.008     -2.527      0.012      -0.038      -0.005\n",
      "==============================================================================\n",
      "Omnibus:                        0.690   Durbin-Watson:                   1.986\n",
      "Prob(Omnibus):                  0.708   Jarque-Bera (JB):                0.654\n",
      "Skew:                           0.020   Prob(JB):                        0.721\n",
      "Kurtosis:                       3.025   Cond. No.                         8.33\n",
      "==============================================================================\n",
      "\n",
      "Notes:\n",
      "[1] Standard Errors assume that the covariance matrix of the errors is correctly specified.\n",
      "Training MSE: 0.999109277898999\n",
      "Test MSE: 1.0195479971022505\n"
     ]
    }
   ],
   "source": [
    "print(results.summary())\n",
    "print(\"Training MSE:\", MSE_train)\n",
    "print(\"Test MSE:\", MSE_test)"
   ]
  },
  {
   "cell_type": "markdown",
   "id": "a3ee7b0b-5f8d-4db0-96de-f3dc20aa06e9",
   "metadata": {
    "jp-MarkdownHeadingCollapsed": true
   },
   "source": [
    "# Bootstrapping Section"
   ]
  },
  {
   "cell_type": "code",
   "execution_count": 85,
   "id": "79a0d48c-dec2-408c-8a80-5aca5a47fb12",
   "metadata": {},
   "outputs": [
    {
     "name": "stdout",
     "output_type": "stream",
     "text": [
      "               mean       std\n",
      "Intercept  3.869277  0.023132\n",
      "x1         0.814491  0.012286\n",
      "x2        -0.013780  0.007550\n",
      "x3         1.116420  0.045442\n",
      "x4         1.620503  0.039919\n",
      "x2_sq     -0.028671  0.006702\n",
      "   Intercept        x1        x2        x3        x4     x2_sq\n",
      "0   3.874732  0.807452 -0.017467  1.124180  1.605030 -0.019424\n",
      "1   3.860256  0.817657 -0.006877  1.085329  1.691466 -0.025473\n",
      "2   3.908564  0.822360 -0.018445  1.024926  1.662596 -0.034419\n",
      "3   3.868613  0.821414 -0.021871  1.144689  1.595774 -0.026742\n",
      "4   3.899209  0.814015  0.000433  1.106953  1.602773 -0.042509\n",
      "5   3.871692  0.816652 -0.003668  1.158252  1.593825 -0.029991\n",
      "6   3.823565  0.802218 -0.018343  1.161583  1.651153 -0.029746\n",
      "7   3.864464  0.806602 -0.016706  1.079493  1.641703 -0.031182\n",
      "8   3.862199  0.839980 -0.018905  1.171713  1.557499 -0.026771\n",
      "9   3.859470  0.796559 -0.015951  1.107079  1.603207 -0.020459\n"
     ]
    }
   ],
   "source": [
    "B = 10\n",
    "coef_rows = []\n",
    "\n",
    "for b in range(B):\n",
    "    bootstrap = data.sample(10000, replace=True, random_state=33+b)\n",
    "    model = smf.ols('y ~ x1 + x2 + x3 + x4 + x2_sq', data = bootstrap).fit()\n",
    "    coef_rows.append(model.params.reindex(['Intercept','x1','x2','x3','x4','x2_sq']))\n",
    "\n",
    "bootstrap_sample_coefs = pd.DataFrame(coef_rows)\n",
    "\n",
    "bootstrap_summary = pd.DataFrame({'mean': bootstrap_sample_coefs.mean(), 'std': bootstrap_sample_coefs.std(ddof=1)})\n",
    "print(bootstrap_summary)\n",
    "print(bootstrap_sample_coefs)"
   ]
  },
  {
   "cell_type": "markdown",
   "id": "568bc764-6f0c-4b14-8efc-080be7f87da6",
   "metadata": {
    "jp-MarkdownHeadingCollapsed": true
   },
   "source": [
    "# Conclusion"
   ]
  },
  {
   "cell_type": "markdown",
   "id": "f4e85379-4ab7-4674-bc54-d3e109c5b811",
   "metadata": {},
   "source": [
    "The coefficients when doing the validation is very similar to the coefficients when doing the bootstrapping. "
   ]
  }
 ],
 "metadata": {
  "kernelspec": {
   "display_name": "Python 3 (ipykernel)",
   "language": "python",
   "name": "python3"
  },
  "language_info": {
   "codemirror_mode": {
    "name": "ipython",
    "version": 3
   },
   "file_extension": ".py",
   "mimetype": "text/x-python",
   "name": "python",
   "nbconvert_exporter": "python",
   "pygments_lexer": "ipython3",
   "version": "3.11.13"
  }
 },
 "nbformat": 4,
 "nbformat_minor": 5
}
