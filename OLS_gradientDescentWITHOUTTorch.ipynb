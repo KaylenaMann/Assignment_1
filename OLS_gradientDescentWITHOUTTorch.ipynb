{
 "cells": [
  {
   "cell_type": "markdown",
   "metadata": {},
   "source": [
    "<div style=\"text-align: right\">ADEC7430 Lecture 2</div>\n",
    "<div style=\"text-align: right\">Prof. Stefano Parravano, 09/02/2025</div>\n",
    "\n",
    "## OLS: Different Perspective"
   ]
  },
  {
   "cell_type": "code",
   "execution_count": 4,
   "metadata": {},
   "outputs": [
    {
     "ename": "ModuleNotFoundError",
     "evalue": "No module named 'torch'",
     "output_type": "error",
     "traceback": [
      "\u001b[0;31m---------------------------------------------------------------------------\u001b[0m",
      "\u001b[0;31mModuleNotFoundError\u001b[0m                       Traceback (most recent call last)",
      "Cell \u001b[0;32mIn[4], line 1\u001b[0m\n\u001b[0;32m----> 1\u001b[0m \u001b[38;5;28;01mimport\u001b[39;00m\u001b[38;5;250m \u001b[39m\u001b[38;5;21;01mtorch\u001b[39;00m\n",
      "\u001b[0;31mModuleNotFoundError\u001b[0m: No module named 'torch'"
     ]
    }
   ],
   "source": [
    "import torch"
   ]
  },
  {
   "cell_type": "markdown",
   "metadata": {},
   "source": [
    "### Problem 1 Solution"
   ]
  },
  {
   "cell_type": "code",
   "execution_count": 5,
   "metadata": {},
   "outputs": [
    {
     "data": {
      "image/png": "[encoded data removed]",
      "text/plain": [
       "<Figure size 640x480 with 1 Axes>"
      ]
     },
     "metadata": {},
     "output_type": "display_data"
    }
   ],
   "source": [
    "import numpy as np\n",
    "import matplotlib.pyplot as plt\n",
    "\n",
    "t_c = np.array([7.3, 15.1, 17.2, 61.9, 12.3, 8.0, 11.6, 22.5, 6.0, 16.6, 32.2])\n",
    "t_f = np.array([35.7, 55.9, 58.2, 81.9, 56.3, 48.9, 33.9, 21.8, 48.4, 60.4, 68.4])\n",
    "\n",
    "plt.plot(t_f, t_c, \"ro\")\n",
    "plt.title(\"t_c as a function of t_f\")\n",
    "plt.xlabel(\"t_f\")\n",
    "plt.ylabel(\"t_c\")\n",
    "plt.show()"
   ]
  },
  {
   "cell_type": "markdown",
   "metadata": {},
   "source": [
    "A quadratic realtionship seems plausible here. At this point we should also recall that a univariate quadratic function (univariate here because we have one feature) has the form : \n",
    "\n",
    "$$ f(x) = ax^2 + bx + c $$  \n",
    "where:  \n",
    "$$ (a,b,c) \\in \\mathbf{R}$$  \n",
    "and of course let's not forget:  \n",
    "$$ a \\neq 0 $$  \n",
    "\n",
    "In the context of our problem here we can write the following:  \n",
    "\n",
    "$$ t_p = ax^2 + bx + c $$  \n",
    "where we think of $t_p$ as the predicted value of $t_t$ for some input $t_f$.  \n",
    "\n",
    "If we are interested in fitting a curve between our points we can think of defining our standard loss function as:  \n",
    "\n",
    "$$ L =\\frac {1}{N} \\sum_{i=1}^n(\\overline{Y_i} - Y_i)^2 $$  \n",
    "\n",
    "We can replace key vaiables of this Standard loss function with those that are specific to our problem:\n",
    "$$ L =\\frac {1}{N} \\sum_{}(t_p - t_c)^2 $$  \n",
    "we can follow this with another round of substitutions:    \n",
    "$$ L =\\frac {1}{N} \\sum_{}((ax^2 + bx + c) - t_c)^2 $$  \n",
    "To enable an easy walkthough of the gradient math that we need to perform, I will 'split' our loss function into smaller parts by writing it as the composition of smaller (easier) functions.  \n",
    "Let:\n",
    "$$ m = ax^2 + bx + c - t_c $$  \n",
    "we can $\\therefore$ write $L$ as:    \n",
    "$$ L = \\frac {1}{N} \\sum_{}m^2 $$  \n",
    "\n",
    "Suddendly L is an extremely nice looking function that we will be able to differentiate without any problems. Before we start computing any derivatives we need to take stock of what paramters our model will have. It should be clear that we will have 3 trainable paramters: $a$,$b$,$c$. The gradient of $L$ , keeping in mind the chain rule can be written as:  \n",
    "$$ \\nabla_{a,b,c} L = \\langle \\frac{\\partial L}{\\partial m} \\frac{\\partial m}{\\partial a}, \\frac{\\partial L}{\\partial m} \\frac{\\partial m}{\\partial b}, \\frac{\\partial L}{\\partial m} \\frac{\\partial m}{\\partial c} \\rangle $$  \n",
    "\n",
    "Our job now is to compute each of the partials in the expressions above. Don't let the notation fool you, this is a very simple problem, and is suprisingly elementary from a mathematical standpoint.  \n",
    "\n",
    "$$ \\frac{\\partial L}{\\partial m}= \\frac{1}{n} \\cdot 2m $$\n",
    "$$ \\frac{\\partial m}{\\partial a}= {t_f}^2 $$\n",
    "$$ \\frac{\\partial m}{\\partial b}= t_f $$\n",
    "$$ \\frac{\\partial m}{\\partial c}= 1 $$  \n",
    "\n",
    "$$ \\nabla_{a,b,c} L = \\langle \\frac{1}{n}\\cdot 2m({t_f}^2), \\frac{1}{n}(2m) \\cdot t_f,\\frac{1}{n}(2m)\\rangle $$  \n",
    "\n",
    "We can now convert this into code and use gradient descent to compute the optimal paramters a,b,c that will define our functional mapping of the experimental data we have.  \n",
    "Note: I have dropped the sigma to make the notation easier. We compute values for the gradient for each sample, thereby generating a gradient vector for each compnent listed above. We then sum each component vector to generate three real numbers. We then 'nudge' each paramter using these three scalars."
   ]
  },
  {
   "cell_type": "code",
   "execution_count": 11,
   "metadata": {},
   "outputs": [],
   "source": [
    "import numpy as np\n",
    "\n",
    "def model(t_f, a, b, c):\n",
    "    return a * t_f**2 + b * t_f + c\n",
    "    \n",
    "def loss_fn(t_p, t_c):\n",
    "    squared_diffs = (t_p - t_c)**2\n",
    "    return squared_diffs.mean()\n",
    "#we can take the derivative of our loss function. Note this is where we substituded and made L= m^2\n",
    "def dloss_fn(t_p, t_c):\n",
    "    dsq_diffs = 2 * (t_p - t_c)\n",
    "    return dsq_diffs\n",
    "\n",
    "# Since t_p = model(a, b,c), the derivatives of t_p with respect to a,b  and c are given by:\n",
    "def dmodel_da(t_f, a, b, c):\n",
    "    return t_f**2\n",
    "\n",
    "def dmodel_db(t_f, a, b, c):\n",
    "    return t_f\n",
    "\n",
    "def dmodel_dc(t_f, a, b, c):\n",
    "    return np.ones_like(t_f)\n",
    "\n",
    "# ---- gradients wrt parameters (chain rule glued together) ----\n",
    "def grad_fn(t_f, t_c, t_p, a, b, c):\n",
    "    dL_dt = 2 * (t_p - t_c)                 # dloss_fn(t_p, t_c)\n",
    "    da = np.mean(dL_dt * (t_f**2))          # dmodel_da = t_f**2\n",
    "    db = np.mean(dL_dt * (t_f))             # dmodel_db = t_f\n",
    "    dc = np.mean(dL_dt * np.ones_like(t_f)) # dmodel_dc = 1\n",
    "    return np.array([da, db, dc], dtype=float)\n",
    "\n",
    "# ---- training loop (vectorized over data; loops only over epochs) ----\n",
    "def training_loop(n_epochs, learning_rate, params, t_f, t_c, print_params=True):\n",
    "    params = np.array(params, dtype=float)  # ensure float array [a, b, c]\n",
    "    loss_values, epoch_list = [], []\n",
    "\n",
    "    for epoch in range(1, n_epochs + 1):\n",
    "        a, b, c = params\n",
    "\n",
    "        # forward pass\n",
    "        t_p = a * (t_f**2) + b * t_f + c\n",
    "\n",
    "        # loss (MSE)\n",
    "        loss = np.mean((t_p - t_c)**2)\n",
    "\n",
    "        # backward pass (gradients)\n",
    "        grads = grad_fn(t_f, t_c, t_p, a, b, c)\n",
    "\n",
    "        # gradient descent update\n",
    "        params = params - learning_rate * grads\n",
    "\n",
    "        # bookkeeping\n",
    "        loss_values.append(float(loss))\n",
    "        epoch_list.append(epoch)\n",
    "\n",
    "        # progress printing: first 2 epochs, then every 4000\n",
    "        if print_params and (epoch <= 2 or epoch % 4000 == 0):\n",
    "            print(f\"Epoch {epoch}, Loss {float(loss):.6f}\")\n",
    "            # uncomment for debugging:\n",
    "            # print(\"Grads:\", grads, \"Params:\", params)\n",
    "\n",
    "        # safety check to stop if loss blows up\n",
    "        if not np.isfinite(loss):\n",
    "            print(\"Stopping: non-finite loss encountered.\")\n",
    "            break\n",
    "\n",
    "    loss_history = list(zip(epoch_list, loss_values))\n",
    "    return params, loss_history"
   ]
  },
  {
   "cell_type": "markdown",
   "metadata": {},
   "source": [
    "We are ready to find our optimal paramters a,b,c via gradient descent.  \n",
    "Let's normalize our inputs and then start **training**."
   ]
  },
  {
   "cell_type": "code",
   "execution_count": 12,
   "metadata": {},
   "outputs": [],
   "source": [
    "def normalize_tensor_0_1(tensor):\n",
    "    min_ten=min(tensor)\n",
    "    max_ten=max(tensor)\n",
    "    norm_ten=(tensor - min_ten)/(max_ten-min_ten)\n",
    "    return(norm_ten)\n",
    "def reverse_normalize_tensor_0_1(tensor,norm_tensor):\n",
    "    min_ten=min(tensor)\n",
    "    max_ten=max(tensor)\n",
    "    ten=norm_tensor*(max_ten-min_ten)+min_ten\n",
    "    return(ten)"
   ]
  },
  {
   "cell_type": "markdown",
   "metadata": {},
   "source": [
    "We can start training !"
   ]
  },
  {
   "cell_type": "code",
   "execution_count": 13,
   "metadata": {},
   "outputs": [
    {
     "name": "stdout",
     "output_type": "stream",
     "text": [
      "Initial values for parameters (a,b,c)=: 0.5529063820960228 0.8588657012217096 0.640182631662593\n",
      "Total train time: 18.06047224998474\n"
     ]
    }
   ],
   "source": [
    "import random\n",
    "random.uniform(0, 1)\n",
    "a,b,c = random.uniform(0, 1),random.uniform(0, 1),random.uniform(0, 1)\n",
    "print('Initial values for parameters (a,b,c)=:',a,b,c)\n",
    "tf_normalized = normalize_tensor_0_1(t_f)\n",
    "import time\n",
    "start_time=time.time()\n",
    "params,loss_history = training_loop(\n",
    "    n_epochs = 100_000, \n",
    "    learning_rate = 1e-2, \n",
    "    params = np.array([a,b,c]), \n",
    "    t_f = tf_normalized, \n",
    "    t_c = t_c,\n",
    "    print_params = False)\n",
    "end_time=time.time()\n",
    "total_train_time=end_time-start_time\n",
    "print('Total train time:',total_train_time)\n",
    "#let's make our predictions and then inverser the normalization"
   ]
  },
  {
   "cell_type": "code",
   "execution_count": 14,
   "metadata": {},
   "outputs": [
    {
     "name": "stdout",
     "output_type": "stream",
     "text": [
      "0.5529063820960228,0.8588657012217096,0.640182631662593\n",
      "[130.69740223 -90.7816476   22.58458673]\n"
     ]
    }
   ],
   "source": [
    "print(f\"{a},{b},{c}\")\n",
    "print(params)"
   ]
  },
  {
   "cell_type": "markdown",
   "metadata": {},
   "source": [
    "We can visualize our resutls now..  \n",
    " 1. We first will make predictions using the model we just trained (remember to use normalized values for the predictor)  \n",
    " 2. We will create a zipped list of t_p and t_f and sort by t_f (this will enable us to draw a nice line graph)\n",
    " 3. We will plot our results and perform some very basic error disgnostics.  \n",
    " "
   ]
  },
  {
   "cell_type": "code",
   "execution_count": 16,
   "metadata": {},
   "outputs": [
    {
     "data": {
      "image/png": "[encoded data removed]",
      "text/plain": [
       "<Figure size 640x480 with 1 Axes>"
      ]
     },
     "metadata": {},
     "output_type": "display_data"
    }
   ],
   "source": [
    "import numpy as np\n",
    "import matplotlib.pyplot as plt\n",
    "\n",
    "# assume you already have:\n",
    "# t_f (np.array), t_c (np.array), tf_normalized (np.array), params (np.array [a,b,c])\n",
    "\n",
    "# 1) predict on normalized inputs\n",
    "t_p1 = model(tf_normalized, *params)  # -> predicted Celsius\n",
    "\n",
    "# 2) sort by original t_f for a smooth line\n",
    "order = np.argsort(t_f)\n",
    "t_f_sort = t_f[order]\n",
    "t_p1_sort = t_p1[order]\n",
    "\n",
    "# 3) plot\n",
    "plt.title('Model fit vs actuals')\n",
    "plt.xlabel('t_f')\n",
    "plt.ylabel('t_c')\n",
    "plt.plot(t_f_sort, t_p1_sort, 'g', label='Model Predicted values')  # line\n",
    "plt.plot(t_f, t_c, 'r+', label='Original Values')                   # points\n",
    "plt.legend()\n",
    "plt.show()"
   ]
  },
  {
   "cell_type": "code",
   "execution_count": 17,
   "metadata": {},
   "outputs": [
    {
     "name": "stdout",
     "output_type": "stream",
     "text": [
      "Predicted value: 8.579632285352364, Actual value: 7.3, Input value: 35.7\n",
      "Predicted value: 13.151453897743448, Actual value: 15.1, Input value: 55.9\n",
      "Predicted value: 15.544536038718821, Actual value: 17.2, Input value: 58.2\n",
      "Predicted value: 62.50034136123671, Actual value: 61.9, Input value: 81.9\n",
      "Predicted value: 13.540142165194094, Actual value: 12.3, Input value: 56.3\n",
      "Predicted value: 8.22374661835281, Actual value: 8.0, Input value: 48.9\n",
      "Predicted value: 9.605133381213275, Actual value: 11.6, Input value: 33.9\n",
      "Predicted value: 22.584586730804627, Actual value: 22.5, Input value: 21.8\n",
      "Predicted value: 8.007457975881529, Actual value: 6.0, Input value: 48.4\n",
      "Predicted value: 18.1917939152189, Actual value: 16.6, Input value: 60.4\n",
      "Predicted value: 30.77081036176474, Actual value: 32.2, Input value: 68.4\n"
     ]
    }
   ],
   "source": [
    "for x in range(len(t_p1)):\n",
    "    print(f\"Predicted value: {t_p1[x]}, Actual value: {t_c[x]}, Input value: {t_f[x]}\")"
   ]
  },
  {
   "cell_type": "code",
   "execution_count": 19,
   "metadata": {},
   "outputs": [
    {
     "data": {
      "text/latex": [
       "$\\displaystyle 4.76615176760448$"
      ],
      "text/plain": [
       "4.76615176760448"
      ]
     },
     "execution_count": 19,
     "metadata": {},
     "output_type": "execute_result"
    }
   ],
   "source": [
    "from sympy import *\n",
    "residual_vector = Matrix(t_c - t_p1)\n",
    "residual_vector.norm()"
   ]
  },
  {
   "cell_type": "code",
   "execution_count": 20,
   "metadata": {},
   "outputs": [],
   "source": [
    "def rmse_error(actuals,predicted):\n",
    "    error=[x-y for x,y in zip(actuals,predicted)]\n",
    "    sq_error=[x*x for x in error]\n",
    "    sum_sq_error=sum(sq_error)\n",
    "    mse = sum_sq_error/len(sq_error)\n",
    "    rmse = mse**0.5\n",
    "    return(rmse)\n",
    "\n",
    "def mape_error(actuals,predicted):\n",
    "    error=[x-y for x,y in zip(actuals,predicted)]\n",
    "    relative_error=[x/y for x,y in zip(error,actuals)]\n",
    "    abs_relative_error=[abs(x) for x in relative_error]\n",
    "    sum_abs_rel_error=sum(abs_relative_error)\n",
    "    mape=(sum_abs_rel_error/len(actuals))*100\n",
    "    return(mape)"
   ]
  },
  {
   "cell_type": "code",
   "execution_count": 21,
   "metadata": {},
   "outputs": [
    {
     "name": "stdout",
     "output_type": "stream",
     "text": [
      "On average our preidctions were off by +/- 1.4370488279121127 units\n",
      "On average our preidctions were off by +/- 10.815065630354068 percent\n"
     ]
    }
   ],
   "source": [
    "rmse=rmse_error(t_c,t_p1)\n",
    "print('On average our preidctions were off by +/-',rmse,'units')\n",
    "\n",
    "mape=mape_error(t_c,t_p1)\n",
    "print('On average our preidctions were off by +/-',mape,'percent')"
   ]
  },
  {
   "cell_type": "markdown",
   "metadata": {},
   "source": [
    "The error metrics confirm what we seen in the plot. This function that we found via gradient descent does in fact fit our data pretty well."
   ]
  }
 ],
 "metadata": {
  "kernelspec": {
   "display_name": "Python 3 (ipykernel)",
   "language": "python",
   "name": "python3"
  },
  "language_info": {
   "codemirror_mode": {
    "name": "ipython",
    "version": 3
   },
   "file_extension": ".py",
   "mimetype": "text/x-python",
   "name": "python",
   "nbconvert_exporter": "python",
   "pygments_lexer": "ipython3",
   "version": "3.13.5"
  }
 },
 "nbformat": 4,
 "nbformat_minor": 4
}
