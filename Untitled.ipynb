{
 "cells": [
  {
   "cell_type": "code",
   "execution_count": null,
   "id": "7a580ab2-e93a-4db1-821f-ddd1b083eb0a",
   "metadata": {},
   "outputs": [],
   "source": [
    "#creating initial dataset\n",
    "import random\n",
    "from sympy import *\n",
    "import pandas as pd\n",
    "import itertools\n",
    "import numpy as np\n",
    "import matplotlib.pyplot as plt"
   ]
  },
  {
   "cell_type": "code",
   "execution_count": null,
   "id": "098331da-bb9e-493f-b813-b9dce2272154",
   "metadata": {},
   "outputs": [],
   "source": [
    "def generate_data (var1):\n",
    "    \n",
    "    b4=\n",
    "    b3=\n",
    "    b2 = \n",
    "    b1 = 2.5\n",
    "    b0 = 80\n",
    "    \n",
    "    random_lower_bound = -60.8\n",
    "    random_upper_bound = 60.8\n",
    "    \n",
    "    error = random.uniform(random_lower_bound,random_upper_bound)\n",
    "    \n",
    "    return b0 + b1 * var1 + error\n",
    "        \n",
    "x_1 = [x for x in range(0,400)]    \n",
    "y_vals = []\n",
    "for x in range(len(x_1)):\n",
    "    temp = generate_data(x_1[x])\n",
    "    y_vals.append(temp)\n",
    "    \n",
    "data = pd.DataFrame({'x1':x_1,'y':y_vals})\n"
   ]
  }
 ],
 "metadata": {
  "kernelspec": {
   "display_name": "Python 3 (ipykernel)",
   "language": "python",
   "name": "python3"
  },
  "language_info": {
   "codemirror_mode": {
    "name": "ipython",
    "version": 3
   },
   "file_extension": ".py",
   "mimetype": "text/x-python",
   "name": "python",
   "nbconvert_exporter": "python",
   "pygments_lexer": "ipython3",
   "version": "3.11.13"
  }
 },
 "nbformat": 4,
 "nbformat_minor": 5
}
