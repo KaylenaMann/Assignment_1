{
 "cells": [
  {
   "cell_type": "code",
   "execution_count": 7,
   "id": "38dc5873-33b2-45a4-b086-0a3b6fc47c3c",
   "metadata": {},
   "outputs": [],
   "source": [
    "import random\n",
    "import numpy as np\n",
    "import pandas as pd\n"
   ]
  },
  {
   "cell_type": "code",
   "execution_count": 29,
   "id": "84add4d6-34bb-488c-ba90-9f365585a684",
   "metadata": {},
   "outputs": [],
   "source": [
    "n = 10000\n",
    "x1 = np.random.normal(0, 1, n)\n",
    "x2 = np.random.normal(0, 1, n)\n",
    "x3 = np.random.uniform(0, 1, n)\n",
    "x4 = np.random.uniform(0, 1, n)\n"
   ]
  },
  {
   "cell_type": "code",
   "execution_count": 33,
   "id": "0c448c39-e64b-44fe-86f5-c780c2bcf983",
   "metadata": {},
   "outputs": [
    {
     "name": "stdout",
     "output_type": "stream",
     "text": [
      "         x1        x2        x3        x4           y\n",
      "0  2.415113  0.031275  0.120737  0.504788   73.045070\n",
      "1 -0.581498  1.446820  0.073874  0.244339   83.798477\n",
      "2 -0.622599  0.193195  0.282521  0.135980   72.146596\n",
      "3  1.158455 -0.524179  0.940337  0.558747  102.872824\n",
      "4 -0.170963 -2.290275  0.404809  0.685135  100.343383\n"
     ]
    }
   ],
   "source": [
    "b0 = 60.5\n",
    "b1 = 2.5\n",
    "b2 = 5.0\n",
    "b3 = 35\n",
    "b4 = 15.78\n",
    "\n",
    "error = np.random.normal(0, 5, n)   \n",
    "\n",
    "y = (b0 + b1*x1 + b2*x2 + b3*x3 + b4*x4 + b2*(x2**2) +\n",
    "     error)\n",
    "\n",
    "data = pd.DataFrame({'x1': x1,'x2': x2,'x3': x3,'x4': x4,'y':  y})\n",
    "\n",
    "print(data.head())"
   ]
  },
  {
   "cell_type": "code",
   "execution_count": null,
   "id": "db4e5414-0b10-445b-9089-48fe59a674ad",
   "metadata": {},
   "outputs": [],
   "source": [
    "import sklearn\n",
    "from sklearn.model_selection import train_test_split"
   ]
  },
  {
   "cell_type": "code",
   "execution_count": null,
   "id": "9e67b5ae-b9fd-4b36-b593-350f02957514",
   "metadata": {},
   "outputs": [],
   "source": []
  }
 ],
 "metadata": {
  "kernelspec": {
   "display_name": "Python 3 (ipykernel)",
   "language": "python",
   "name": "python3"
  },
  "language_info": {
   "codemirror_mode": {
    "name": "ipython",
    "version": 3
   },
   "file_extension": ".py",
   "mimetype": "text/x-python",
   "name": "python",
   "nbconvert_exporter": "python",
   "pygments_lexer": "ipython3",
   "version": "3.11.13"
  }
 },
 "nbformat": 4,
 "nbformat_minor": 5
}
